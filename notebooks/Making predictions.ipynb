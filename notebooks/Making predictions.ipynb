{
  "nbformat": 4,
  "nbformat_minor": 0,
  "metadata": {
    "colab": {
      "name": "Untitled5.ipynb",
      "provenance": [],
      "collapsed_sections": []
    },
    "kernelspec": {
      "name": "python3",
      "display_name": "Python 3"
    },
    "language_info": {
      "name": "python"
    },
    "accelerator": "GPU"
  },
  "cells": [
    {
      "cell_type": "code",
      "metadata": {
        "id": "7eh866fszsBE"
      },
      "source": [
        "import torch\n",
        "import os\n",
        "from skimage import io\n",
        "import numpy as np\n",
        "import pandas as pd\n",
        "import torchvision.transforms as ts\n",
        "from torch.utils.data import DataLoader, random_split\n",
        "from dataset import PotholeDataset\n",
        "from model import ALEXNET\n",
        "from engine import fit, get_default_device, to_device\n",
        "import matplotlib.pyplot as plt\n",
        "%matplotlib inline"
      ],
      "execution_count": 29,
      "outputs": []
    },
    {
      "cell_type": "code",
      "metadata": {
        "id": "BZEtA2xD0KMY"
      },
      "source": [
        "import zipfile\n",
        "with zipfile.ZipFile(\"./input/all_data.zip\",\"r\") as zipf:\n",
        "  zipf.extractall(\"./input/\")"
      ],
      "execution_count": null,
      "outputs": []
    },
    {
      "cell_type": "code",
      "metadata": {
        "id": "qkBXhdV00uQe",
        "colab": {
          "base_uri": "https://localhost:8080/"
        },
        "outputId": "c5ebb83f-4422-4245-fd6f-500ad5174853"
      },
      "source": [
        "device = get_default_device()\n",
        "images_path=\"./input/all_data/\"\n",
        "train_df=pd.read_csv(\"./input/train_ids_labels.csv\")\n",
        "stats=((0.5,0.5,0.5),(0.5,0.5,0.5))\n",
        "tfms=ts.Compose([ts.ToTensor(),\n",
        "                ts.CenterCrop((120,800)),\n",
        "                ts.Resize((227,227)),\n",
        "                ts.Normalize(*stats)])\n",
        "dataset=PotholeDataset(images_path,train_df,transform=tfms)\n",
        "len(dataset)"
      ],
      "execution_count": 12,
      "outputs": [
        {
          "output_type": "execute_result",
          "data": {
            "text/plain": [
              "4026"
            ]
          },
          "metadata": {
            "tags": []
          },
          "execution_count": 12
        }
      ]
    },
    {
      "cell_type": "code",
      "metadata": {
        "colab": {
          "base_uri": "https://localhost:8080/"
        },
        "id": "2hXspOLc5tds",
        "outputId": "d646ca45-0498-42ea-8b9f-7ab2345ca117"
      },
      "source": [
        "batch_size=64\n",
        "train_ds,val_ds=random_split(dataset,[len(dataset)-500,500])\n",
        "train_loader=DataLoader(train_ds,batch_size,shuffle=True,num_workers=4,pin_memory=True)\n",
        "val_loader=DataLoader(val_ds,batch_size*2,num_workers=4,pin_memory=True)"
      ],
      "execution_count": 13,
      "outputs": [
        {
          "output_type": "stream",
          "text": [
            "/usr/local/lib/python3.7/dist-packages/torch/utils/data/dataloader.py:477: UserWarning: This DataLoader will create 4 worker processes in total. Our suggested max number of worker in current system is 2, which is smaller than what this DataLoader is going to create. Please be aware that excessive worker creation might get DataLoader running slow or even freeze, lower the worker number to avoid potential slowness/freeze if necessary.\n",
            "  cpuset_checked))\n"
          ],
          "name": "stderr"
        }
      ]
    },
    {
      "cell_type": "code",
      "metadata": {
        "colab": {
          "base_uri": "https://localhost:8080/"
        },
        "id": "D2ddvbtn5tgF",
        "outputId": "6637a522-dd32-4de7-cbcf-5ba559bab245"
      },
      "source": [
        "model=ALEXNET(2)\n",
        "to_device(model,device)"
      ],
      "execution_count": 15,
      "outputs": [
        {
          "output_type": "execute_result",
          "data": {
            "text/plain": [
              "ALEXNET(\n",
              "  (network): Sequential(\n",
              "    (0): Conv2d(3, 96, kernel_size=(11, 11), stride=(4, 4))\n",
              "    (1): ReLU(inplace=True)\n",
              "    (2): MaxPool2d(kernel_size=3, stride=2, padding=0, dilation=1, ceil_mode=False)\n",
              "    (3): Conv2d(96, 256, kernel_size=(5, 5), stride=(1, 1), padding=(2, 2))\n",
              "    (4): ReLU(inplace=True)\n",
              "    (5): MaxPool2d(kernel_size=3, stride=2, padding=0, dilation=1, ceil_mode=False)\n",
              "    (6): Conv2d(256, 384, kernel_size=(3, 3), stride=(1, 1), padding=(1, 1))\n",
              "    (7): ReLU(inplace=True)\n",
              "    (8): Conv2d(384, 384, kernel_size=(3, 3), stride=(1, 1), padding=(1, 1))\n",
              "    (9): ReLU(inplace=True)\n",
              "    (10): Conv2d(384, 256, kernel_size=(3, 3), stride=(1, 1), padding=(1, 1))\n",
              "    (11): ReLU(inplace=True)\n",
              "    (12): MaxPool2d(kernel_size=3, stride=2, padding=0, dilation=1, ceil_mode=False)\n",
              "    (13): Flatten(start_dim=1, end_dim=-1)\n",
              "    (14): Dropout(p=0.5, inplace=False)\n",
              "    (15): Linear(in_features=9216, out_features=4096, bias=True)\n",
              "    (16): ReLU(inplace=True)\n",
              "    (17): Dropout(p=0.5, inplace=False)\n",
              "    (18): Linear(in_features=4096, out_features=4096, bias=True)\n",
              "    (19): ReLU(inplace=True)\n",
              "    (20): Linear(in_features=4096, out_features=2, bias=True)\n",
              "  )\n",
              ")"
            ]
          },
          "metadata": {
            "tags": []
          },
          "execution_count": 15
        }
      ]
    },
    {
      "cell_type": "code",
      "metadata": {
        "colab": {
          "base_uri": "https://localhost:8080/"
        },
        "id": "zP-G2WLM54UB",
        "outputId": "0c354acf-8b3e-4d7a-adcd-3fe5b48dc99c"
      },
      "source": [
        "run1=fit(10,0.001,model,train_loader,val_loader,device,opt_func=torch.optim.Adam)"
      ],
      "execution_count": 24,
      "outputs": [
        {
          "output_type": "stream",
          "text": [
            "/usr/local/lib/python3.7/dist-packages/torch/utils/data/dataloader.py:477: UserWarning: This DataLoader will create 4 worker processes in total. Our suggested max number of worker in current system is 2, which is smaller than what this DataLoader is going to create. Please be aware that excessive worker creation might get DataLoader running slow or even freeze, lower the worker number to avoid potential slowness/freeze if necessary.\n",
            "  cpuset_checked))\n"
          ],
          "name": "stderr"
        },
        {
          "output_type": "stream",
          "text": [
            "Epoch [0]: train_loss 0.7101, val_loss 0.8613, val_acc 0.5477\n",
            "Epoch [1]: train_loss 0.5087, val_loss 0.5200, val_acc 0.7992\n",
            "Epoch [2]: train_loss 0.4214, val_loss 0.3405, val_acc 0.8623\n",
            "Epoch [3]: train_loss 0.3494, val_loss 0.4254, val_acc 0.8152\n",
            "Epoch [4]: train_loss 0.3197, val_loss 0.2926, val_acc 0.8930\n",
            "Epoch [5]: train_loss 0.2990, val_loss 0.2708, val_acc 0.8891\n",
            "Epoch [6]: train_loss 0.3105, val_loss 0.4524, val_acc 0.7793\n",
            "Epoch [7]: train_loss 0.3228, val_loss 0.2900, val_acc 0.8714\n",
            "Epoch [8]: train_loss 0.2800, val_loss 0.2495, val_acc 0.8930\n",
            "Epoch [9]: train_loss 0.2706, val_loss 0.2651, val_acc 0.8930\n"
          ],
          "name": "stdout"
        }
      ]
    },
    {
      "cell_type": "code",
      "metadata": {
        "colab": {
          "base_uri": "https://localhost:8080/",
          "height": 295
        },
        "id": "AW3FrvQd8wOf",
        "outputId": "0e15997f-2dd0-4a51-fb49-8e2fe2943938"
      },
      "source": [
        "def plot_losses(history):\n",
        "    train_losses = [x.get('train_loss') for x in history]\n",
        "    val_losses = [x['val_loss'] for x in history]\n",
        "    plt.plot(train_losses, '-bx')\n",
        "    plt.plot(val_losses, '-rx')\n",
        "    plt.xlabel('epoch')\n",
        "    plt.ylabel('loss')\n",
        "    plt.legend(['Training', 'Validation'])\n",
        "    plt.title('Loss vs. No. of epochs');\n",
        "\n",
        "plot_losses(run1)"
      ],
      "execution_count": 30,
      "outputs": [
        {
          "output_type": "display_data",
          "data": {
            "image/png": "[encoded data removed]",
            "text/plain": [
              "<Figure size 432x288 with 1 Axes>"
            ]
          },
          "metadata": {
            "tags": [],
            "needs_background": "light"
          }
        }
      ]
    },
    {
      "cell_type": "code",
      "metadata": {
        "id": "20XTz6ic1iOP",
        "colab": {
          "base_uri": "https://localhost:8080/",
          "height": 202
        },
        "outputId": "a7e129b8-6c54-4bd7-ec30-80e43e706079"
      },
      "source": [
        "test_df=pd.read_csv(\"./input/test_ids_only.csv\")\n",
        "test_df.head()"
      ],
      "execution_count": 25,
      "outputs": [
        {
          "output_type": "execute_result",
          "data": {
            "text/html": [
              "<div>\n",
              "<style scoped>\n",
              "    .dataframe tbody tr th:only-of-type {\n",
              "        vertical-align: middle;\n",
              "    }\n",
              "\n",
              "    .dataframe tbody tr th {\n",
              "        vertical-align: top;\n",
              "    }\n",
              "\n",
              "    .dataframe thead th {\n",
              "        text-align: right;\n",
              "    }\n",
              "</style>\n",
              "<table border=\"1\" class=\"dataframe\">\n",
              "  <thead>\n",
              "    <tr style=\"text-align: right;\">\n",
              "      <th></th>\n",
              "      <th>Image_ID</th>\n",
              "    </tr>\n",
              "  </thead>\n",
              "  <tbody>\n",
              "    <tr>\n",
              "      <th>0</th>\n",
              "      <td>nRhHxqLhDlJsiXc</td>\n",
              "    </tr>\n",
              "    <tr>\n",
              "      <th>1</th>\n",
              "      <td>gbSntVovxgHQrmO</td>\n",
              "    </tr>\n",
              "    <tr>\n",
              "      <th>2</th>\n",
              "      <td>nqOobGmvgEOiPms</td>\n",
              "    </tr>\n",
              "    <tr>\n",
              "      <th>3</th>\n",
              "      <td>oIkPTooLcIbZKlF</td>\n",
              "    </tr>\n",
              "    <tr>\n",
              "      <th>4</th>\n",
              "      <td>eSKxsTTJDQzkjgD</td>\n",
              "    </tr>\n",
              "  </tbody>\n",
              "</table>\n",
              "</div>"
            ],
            "text/plain": [
              "          Image_ID\n",
              "0  nRhHxqLhDlJsiXc\n",
              "1  gbSntVovxgHQrmO\n",
              "2  nqOobGmvgEOiPms\n",
              "3  oIkPTooLcIbZKlF\n",
              "4  eSKxsTTJDQzkjgD"
            ]
          },
          "metadata": {
            "tags": []
          },
          "execution_count": 25
        }
      ]
    },
    {
      "cell_type": "code",
      "metadata": {
        "id": "yIOPnKly5lQA"
      },
      "source": [
        "preds=[]\n",
        "with torch.no_grad():\n",
        "  for i in range(len(test_df)):\n",
        "    img_name=os.path.join(images_path,test_df.iloc[i,0])\n",
        "    img_name=img_name + \".JPG\"\n",
        "    img=io.imread(img_name)\n",
        "    img=img.astype(np.uint8)\n",
        "    img=tfms(img)\n",
        "    img = to_device(img.unsqueeze(0), device)\n",
        "\n",
        "    out=model(img)\n",
        "\n",
        "\n",
        "\n",
        "    _, pred  = torch.max(out, dim=1)\n",
        "\n",
        "\n",
        "    preds.append([test_df.iloc[i,0],pred[0].item()])\n"
      ],
      "execution_count": 26,
      "outputs": []
    },
    {
      "cell_type": "code",
      "metadata": {
        "colab": {
          "base_uri": "https://localhost:8080/",
          "height": 219
        },
        "id": "Pt7dgLlc6Rnc",
        "outputId": "a6e057a3-856e-4c76-e93f-401964e2c64c"
      },
      "source": [
        "predictions=pd.DataFrame(preds,columns=[\"Image_ID\",\"Label\"])\n",
        "print(len(predictions))\n",
        "predictions.head()"
      ],
      "execution_count": 27,
      "outputs": [
        {
          "output_type": "stream",
          "text": [
            "1650\n"
          ],
          "name": "stdout"
        },
        {
          "output_type": "execute_result",
          "data": {
            "text/html": [
              "<div>\n",
              "<style scoped>\n",
              "    .dataframe tbody tr th:only-of-type {\n",
              "        vertical-align: middle;\n",
              "    }\n",
              "\n",
              "    .dataframe tbody tr th {\n",
              "        vertical-align: top;\n",
              "    }\n",
              "\n",
              "    .dataframe thead th {\n",
              "        text-align: right;\n",
              "    }\n",
              "</style>\n",
              "<table border=\"1\" class=\"dataframe\">\n",
              "  <thead>\n",
              "    <tr style=\"text-align: right;\">\n",
              "      <th></th>\n",
              "      <th>Image_ID</th>\n",
              "      <th>Label</th>\n",
              "    </tr>\n",
              "  </thead>\n",
              "  <tbody>\n",
              "    <tr>\n",
              "      <th>0</th>\n",
              "      <td>nRhHxqLhDlJsiXc</td>\n",
              "      <td>1</td>\n",
              "    </tr>\n",
              "    <tr>\n",
              "      <th>1</th>\n",
              "      <td>gbSntVovxgHQrmO</td>\n",
              "      <td>1</td>\n",
              "    </tr>\n",
              "    <tr>\n",
              "      <th>2</th>\n",
              "      <td>nqOobGmvgEOiPms</td>\n",
              "      <td>0</td>\n",
              "    </tr>\n",
              "    <tr>\n",
              "      <th>3</th>\n",
              "      <td>oIkPTooLcIbZKlF</td>\n",
              "      <td>1</td>\n",
              "    </tr>\n",
              "    <tr>\n",
              "      <th>4</th>\n",
              "      <td>eSKxsTTJDQzkjgD</td>\n",
              "      <td>1</td>\n",
              "    </tr>\n",
              "  </tbody>\n",
              "</table>\n",
              "</div>"
            ],
            "text/plain": [
              "          Image_ID  Label\n",
              "0  nRhHxqLhDlJsiXc      1\n",
              "1  gbSntVovxgHQrmO      1\n",
              "2  nqOobGmvgEOiPms      0\n",
              "3  oIkPTooLcIbZKlF      1\n",
              "4  eSKxsTTJDQzkjgD      1"
            ]
          },
          "metadata": {
            "tags": []
          },
          "execution_count": 27
        }
      ]
    },
    {
      "cell_type": "code",
      "metadata": {
        "id": "0RJOTSBf6iGJ"
      },
      "source": [
        ""
      ],
      "execution_count": null,
      "outputs": []
    }
  ]
}